{
 "cells": [
  {
   "cell_type": "markdown",
   "metadata": {},
   "source": [
    "**Tiền xử lý dữ liệu**"
   ]
  },
  {
   "cell_type": "markdown",
   "metadata": {},
   "source": [
    "***Gọi các thư viện***"
   ]
  },
  {
   "cell_type": "code",
   "execution_count": 28,
   "metadata": {},
   "outputs": [],
   "source": [
    "import pandas as pd\n",
    "import numpy as np\n",
    "import matplotlib.pyplot as plt\n",
    "import seaborn as sns\n",
    "import missingno as msno\n",
    "%matplotlib inline\n",
    "import matplotlib\n",
    "matplotlib.rcParams[\"figure.figsize\"] = (18, 10)\n",
    "\n",
    "import matplotlib.pyplot as plt\n",
    "import seaborn as sns\n",
    "import warnings\n",
    "warnings.filterwarnings('ignore')\n",
    "import missingno as msno\n",
    "import plotly.express as px\n",
    "import plotly.graph_objects as go\n",
    "import numpy as np\n",
    "import pandas as pd\n",
    "import warnings\n",
    "\n",
    "\n",
    "\n",
    "pd.set_option('display.max_columns', None)\n",
    "pd.set_option('display.max_rows', None)\n",
    "pd.set_option('display.width', None)\n",
    "pd.set_option('display.float_format', lambda x: '%.3f' % x)"
   ]
  },
  {
   "cell_type": "markdown",
   "metadata": {},
   "source": [
    "***Đọc file dữ liệu***"
   ]
  },
  {
   "cell_type": "code",
   "execution_count": 2,
   "metadata": {},
   "outputs": [
    {
     "data": {
      "text/html": [
       "<div>\n",
       "<style scoped>\n",
       "    .dataframe tbody tr th:only-of-type {\n",
       "        vertical-align: middle;\n",
       "    }\n",
       "\n",
       "    .dataframe tbody tr th {\n",
       "        vertical-align: top;\n",
       "    }\n",
       "\n",
       "    .dataframe thead th {\n",
       "        text-align: right;\n",
       "    }\n",
       "</style>\n",
       "<table border=\"1\" class=\"dataframe\">\n",
       "  <thead>\n",
       "    <tr style=\"text-align: right;\">\n",
       "      <th></th>\n",
       "      <th>Area Income</th>\n",
       "      <th>Area House Age</th>\n",
       "      <th>Area Number of Rooms</th>\n",
       "      <th>Area Number of Bedrooms</th>\n",
       "      <th>Area Population</th>\n",
       "      <th>Price</th>\n",
       "      <th>Address</th>\n",
       "    </tr>\n",
       "  </thead>\n",
       "  <tbody>\n",
       "    <tr>\n",
       "      <th>0</th>\n",
       "      <td>79545</td>\n",
       "      <td>6</td>\n",
       "      <td>7</td>\n",
       "      <td>4</td>\n",
       "      <td>23087</td>\n",
       "      <td>1059034</td>\n",
       "      <td>208 Michael Ferry Apt. 674\\nLaurabury, NE 3701...</td>\n",
       "    </tr>\n",
       "    <tr>\n",
       "      <th>1</th>\n",
       "      <td>79249</td>\n",
       "      <td>6</td>\n",
       "      <td>7</td>\n",
       "      <td>3</td>\n",
       "      <td>40173</td>\n",
       "      <td>1505891</td>\n",
       "      <td>188 Johnson Views Suite 079\\nLake Kathleen, CA...</td>\n",
       "    </tr>\n",
       "    <tr>\n",
       "      <th>2</th>\n",
       "      <td>61287</td>\n",
       "      <td>6</td>\n",
       "      <td>9</td>\n",
       "      <td>5</td>\n",
       "      <td>36882</td>\n",
       "      <td>1058988</td>\n",
       "      <td>9127 Elizabeth Stravenue\\nDanieltown, WI 06482...</td>\n",
       "    </tr>\n",
       "    <tr>\n",
       "      <th>3</th>\n",
       "      <td>63345</td>\n",
       "      <td>7</td>\n",
       "      <td>6</td>\n",
       "      <td>3</td>\n",
       "      <td>34310</td>\n",
       "      <td>1260617</td>\n",
       "      <td>USS Barnett\\nFPO AP 44820</td>\n",
       "    </tr>\n",
       "    <tr>\n",
       "      <th>4</th>\n",
       "      <td>59982</td>\n",
       "      <td>5</td>\n",
       "      <td>8</td>\n",
       "      <td>4</td>\n",
       "      <td>26354</td>\n",
       "      <td>630943</td>\n",
       "      <td>USNS Raymond\\nFPO AE 09386</td>\n",
       "    </tr>\n",
       "  </tbody>\n",
       "</table>\n",
       "</div>"
      ],
      "text/plain": [
       "   Area Income  Area House Age  Area Number of Rooms  Area Number of Bedrooms  \\\n",
       "0        79545               6                     7                        4   \n",
       "1        79249               6                     7                        3   \n",
       "2        61287               6                     9                        5   \n",
       "3        63345               7                     6                        3   \n",
       "4        59982               5                     8                        4   \n",
       "\n",
       "   Area Population    Price                                            Address  \n",
       "0            23087  1059034  208 Michael Ferry Apt. 674\\nLaurabury, NE 3701...  \n",
       "1            40173  1505891  188 Johnson Views Suite 079\\nLake Kathleen, CA...  \n",
       "2            36882  1058988  9127 Elizabeth Stravenue\\nDanieltown, WI 06482...  \n",
       "3            34310  1260617                          USS Barnett\\nFPO AP 44820  \n",
       "4            26354   630943                         USNS Raymond\\nFPO AE 09386  "
      ]
     },
     "execution_count": 2,
     "metadata": {},
     "output_type": "execute_result"
    }
   ],
   "source": [
    "# đọc dữ liệu\n",
    "data = pd.read_excel(\"D:\\\\ML\\\\bt-hoc-kgs\\\\USA_Housing.xlsx\")\n",
    "\n",
    "# in ra 5 dòng đầu tiên của dữ liệu\n",
    "data.head()"
   ]
  },
  {
   "cell_type": "code",
   "execution_count": 3,
   "metadata": {},
   "outputs": [
    {
     "name": "stdout",
     "output_type": "stream",
     "text": [
      "<class 'pandas.core.frame.DataFrame'>\n",
      "RangeIndex: 5000 entries, 0 to 4999\n",
      "Data columns (total 7 columns):\n",
      " #   Column                   Non-Null Count  Dtype \n",
      "---  ------                   --------------  ----- \n",
      " 0   Area Income              5000 non-null   int64 \n",
      " 1   Area House Age           5000 non-null   int64 \n",
      " 2   Area Number of Rooms     5000 non-null   int64 \n",
      " 3   Area Number of Bedrooms  5000 non-null   int64 \n",
      " 4   Area Population          5000 non-null   int64 \n",
      " 5   Price                    5000 non-null   int64 \n",
      " 6   Address                  5000 non-null   object\n",
      "dtypes: int64(6), object(1)\n",
      "memory usage: 273.6+ KB\n"
     ]
    }
   ],
   "source": [
    "# tóm tắt thông tin dữ liệu\n",
    "data.info()"
   ]
  },
  {
   "cell_type": "code",
   "execution_count": 4,
   "metadata": {},
   "outputs": [
    {
     "data": {
      "text/plain": [
       "(5000, 7)"
      ]
     },
     "execution_count": 4,
     "metadata": {},
     "output_type": "execute_result"
    }
   ],
   "source": [
    "# kiểm tra hàng và cột của dữ liệu\n",
    "data.shape"
   ]
  },
  {
   "cell_type": "code",
   "execution_count": 5,
   "metadata": {},
   "outputs": [
    {
     "data": {
      "text/plain": [
       "Index(['Area Income', 'Area House Age', 'Area Number of Rooms',\n",
       "       'Area Number of Bedrooms', 'Area Population', 'Price', 'Address'],\n",
       "      dtype='object')"
      ]
     },
     "execution_count": 5,
     "metadata": {},
     "output_type": "execute_result"
    }
   ],
   "source": [
    "# dữ liệu chứa những cột dữ liệu gì\n",
    "data.columns"
   ]
  },
  {
   "cell_type": "markdown",
   "metadata": {},
   "source": [
    "***Làm sạch dữ liệu***"
   ]
  },
  {
   "cell_type": "markdown",
   "metadata": {},
   "source": [
    "- kiểm tra dữ liệu thiếu"
   ]
  },
  {
   "cell_type": "code",
   "execution_count": 6,
   "metadata": {},
   "outputs": [
    {
     "data": {
      "text/plain": [
       "Area Income                0\n",
       "Area House Age             0\n",
       "Area Number of Rooms       0\n",
       "Area Number of Bedrooms    0\n",
       "Area Population            0\n",
       "Price                      0\n",
       "Address                    0\n",
       "dtype: int64"
      ]
     },
     "execution_count": 6,
     "metadata": {},
     "output_type": "execute_result"
    }
   ],
   "source": [
    "# kiểm tra dữ liệu có giá trị null\n",
    "data.isnull().sum()"
   ]
  },
  {
   "cell_type": "code",
   "execution_count": 7,
   "metadata": {},
   "outputs": [
    {
     "data": {
      "image/png": "[encoded data removed]",
      "text/plain": [
       "<Figure size 2500x1000 with 3 Axes>"
      ]
     },
     "metadata": {},
     "output_type": "display_data"
    }
   ],
   "source": [
    "msno.bar(data)\n",
    "plt.title(\"Phân phối dữ liệu thiếu\", fontsize = 18)\n",
    "plt.show()"
   ]
  },
  {
   "cell_type": "markdown",
   "metadata": {},
   "source": [
    "- kiểm tra dữ liệu lặp"
   ]
  },
  {
   "cell_type": "code",
   "execution_count": 8,
   "metadata": {},
   "outputs": [
    {
     "data": {
      "text/plain": [
       "0"
      ]
     },
     "execution_count": 8,
     "metadata": {},
     "output_type": "execute_result"
    }
   ],
   "source": [
    "# kiểm tra giá trị trùng lặp trong dữ liệu\n",
    "data.duplicated().sum()"
   ]
  },
  {
   "cell_type": "code",
   "execution_count": 9,
   "metadata": {},
   "outputs": [],
   "source": [
    "# Xác định các hàng trùng lặp\n",
    "duplicated_rows = data.duplicated()"
   ]
  },
  {
   "cell_type": "code",
   "execution_count": 10,
   "metadata": {},
   "outputs": [
    {
     "data": {
      "image/png": "[encoded data removed]",
      "text/plain": [
       "<Figure size 1800x1000 with 1 Axes>"
      ]
     },
     "metadata": {},
     "output_type": "display_data"
    }
   ],
   "source": [
    "# Tạo một DataFrame mới để lưu số thứ tự của hàng và xác định liệu chúng có bị trùng lặp không\n",
    "duplicates_data = pd.DataFrame({\n",
    "    'Row': range(1, len(data) + 1),\n",
    "    'Duplicated': duplicated_rows\n",
    "})\n",
    "\n",
    "# Lọc ra chỉ các hàng đã trùng lặp\n",
    "duplicates_data = duplicates_data[duplicates_data['Duplicated']]\n",
    "\n",
    "# Vẽ chúng dưới dạng đường thẳng màu đen\n",
    "plt.figure(figsize=(18, 10))\n",
    "plt.vlines(x=duplicates_data['Row'], ymin=0, ymax=1, color='black')\n",
    "plt.gca().invert_xaxis() # Đảo ngược trục x\n",
    "plt.title(\"Chỉ số của các hàng trùng lặp\", fontsize = 18)\n",
    "plt.xlabel(\" \")\n",
    "plt.ylabel(\" \")\n",
    "plt.show()"
   ]
  },
  {
   "cell_type": "markdown",
   "metadata": {},
   "source": [
    "- xử lý dữ liệu nhiễu"
   ]
  },
  {
   "cell_type": "code",
   "execution_count": 11,
   "metadata": {},
   "outputs": [
    {
     "data": {
      "text/html": [
       "<div>\n",
       "<style scoped>\n",
       "    .dataframe tbody tr th:only-of-type {\n",
       "        vertical-align: middle;\n",
       "    }\n",
       "\n",
       "    .dataframe tbody tr th {\n",
       "        vertical-align: top;\n",
       "    }\n",
       "\n",
       "    .dataframe thead th {\n",
       "        text-align: right;\n",
       "    }\n",
       "</style>\n",
       "<table border=\"1\" class=\"dataframe\">\n",
       "  <thead>\n",
       "    <tr style=\"text-align: right;\">\n",
       "      <th></th>\n",
       "      <th>Area Income</th>\n",
       "      <th>Area House Age</th>\n",
       "      <th>Area Number of Rooms</th>\n",
       "      <th>Area Number of Bedrooms</th>\n",
       "      <th>Area Population</th>\n",
       "      <th>Price</th>\n",
       "    </tr>\n",
       "  </thead>\n",
       "  <tbody>\n",
       "    <tr>\n",
       "      <th>count</th>\n",
       "      <td>5000.000</td>\n",
       "      <td>5000.000</td>\n",
       "      <td>5000.000</td>\n",
       "      <td>5000.000</td>\n",
       "      <td>5000.000</td>\n",
       "      <td>5000.000</td>\n",
       "    </tr>\n",
       "    <tr>\n",
       "      <th>mean</th>\n",
       "      <td>68583.104</td>\n",
       "      <td>5.975</td>\n",
       "      <td>6.988</td>\n",
       "      <td>3.753</td>\n",
       "      <td>36163.512</td>\n",
       "      <td>1232072.658</td>\n",
       "    </tr>\n",
       "    <tr>\n",
       "      <th>std</th>\n",
       "      <td>10657.990</td>\n",
       "      <td>1.038</td>\n",
       "      <td>1.044</td>\n",
       "      <td>1.233</td>\n",
       "      <td>9925.651</td>\n",
       "      <td>353117.625</td>\n",
       "    </tr>\n",
       "    <tr>\n",
       "      <th>min</th>\n",
       "      <td>17797.000</td>\n",
       "      <td>3.000</td>\n",
       "      <td>3.000</td>\n",
       "      <td>2.000</td>\n",
       "      <td>173.000</td>\n",
       "      <td>15939.000</td>\n",
       "    </tr>\n",
       "    <tr>\n",
       "      <th>25%</th>\n",
       "      <td>61480.500</td>\n",
       "      <td>5.000</td>\n",
       "      <td>6.000</td>\n",
       "      <td>3.000</td>\n",
       "      <td>29404.000</td>\n",
       "      <td>997577.500</td>\n",
       "    </tr>\n",
       "    <tr>\n",
       "      <th>50%</th>\n",
       "      <td>68804.500</td>\n",
       "      <td>6.000</td>\n",
       "      <td>7.000</td>\n",
       "      <td>4.000</td>\n",
       "      <td>36199.000</td>\n",
       "      <td>1232669.000</td>\n",
       "    </tr>\n",
       "    <tr>\n",
       "      <th>75%</th>\n",
       "      <td>75783.000</td>\n",
       "      <td>7.000</td>\n",
       "      <td>8.000</td>\n",
       "      <td>4.000</td>\n",
       "      <td>42861.000</td>\n",
       "      <td>1471210.000</td>\n",
       "    </tr>\n",
       "    <tr>\n",
       "      <th>max</th>\n",
       "      <td>107702.000</td>\n",
       "      <td>10.000</td>\n",
       "      <td>11.000</td>\n",
       "      <td>7.000</td>\n",
       "      <td>69622.000</td>\n",
       "      <td>2469066.000</td>\n",
       "    </tr>\n",
       "  </tbody>\n",
       "</table>\n",
       "</div>"
      ],
      "text/plain": [
       "       Area Income  Area House Age  Area Number of Rooms  \\\n",
       "count     5000.000        5000.000              5000.000   \n",
       "mean     68583.104           5.975                 6.988   \n",
       "std      10657.990           1.038                 1.044   \n",
       "min      17797.000           3.000                 3.000   \n",
       "25%      61480.500           5.000                 6.000   \n",
       "50%      68804.500           6.000                 7.000   \n",
       "75%      75783.000           7.000                 8.000   \n",
       "max     107702.000          10.000                11.000   \n",
       "\n",
       "       Area Number of Bedrooms  Area Population       Price  \n",
       "count                 5000.000         5000.000    5000.000  \n",
       "mean                     3.753        36163.512 1232072.658  \n",
       "std                      1.233         9925.651  353117.625  \n",
       "min                      2.000          173.000   15939.000  \n",
       "25%                      3.000        29404.000  997577.500  \n",
       "50%                      4.000        36199.000 1232669.000  \n",
       "75%                      4.000        42861.000 1471210.000  \n",
       "max                      7.000        69622.000 2469066.000  "
      ]
     },
     "execution_count": 11,
     "metadata": {},
     "output_type": "execute_result"
    }
   ],
   "source": [
    "data.describe()"
   ]
  },
  {
   "cell_type": "code",
   "execution_count": 12,
   "metadata": {},
   "outputs": [
    {
     "data": {
      "text/plain": [
       "(152071.455, 2298398.907000004)"
      ]
     },
     "execution_count": 12,
     "metadata": {},
     "output_type": "execute_result"
    }
   ],
   "source": [
    "min_thresold, max_thresold = data.Price.quantile([0.001, 0.999])\n",
    "min_thresold, max_thresold"
   ]
  },
  {
   "cell_type": "code",
   "execution_count": 13,
   "metadata": {},
   "outputs": [
    {
     "data": {
      "text/html": [
       "<div>\n",
       "<style scoped>\n",
       "    .dataframe tbody tr th:only-of-type {\n",
       "        vertical-align: middle;\n",
       "    }\n",
       "\n",
       "    .dataframe tbody tr th {\n",
       "        vertical-align: top;\n",
       "    }\n",
       "\n",
       "    .dataframe thead th {\n",
       "        text-align: right;\n",
       "    }\n",
       "</style>\n",
       "<table border=\"1\" class=\"dataframe\">\n",
       "  <thead>\n",
       "    <tr style=\"text-align: right;\">\n",
       "      <th></th>\n",
       "      <th>Area Income</th>\n",
       "      <th>Area House Age</th>\n",
       "      <th>Area Number of Rooms</th>\n",
       "      <th>Area Number of Bedrooms</th>\n",
       "      <th>Area Population</th>\n",
       "      <th>Price</th>\n",
       "      <th>Address</th>\n",
       "    </tr>\n",
       "  </thead>\n",
       "  <tbody>\n",
       "    <tr>\n",
       "      <th>1271</th>\n",
       "      <td>37971</td>\n",
       "      <td>4</td>\n",
       "      <td>6</td>\n",
       "      <td>3</td>\n",
       "      <td>33268</td>\n",
       "      <td>31141</td>\n",
       "      <td>98398 Terrance Pines\\nSouth Joshua, MT 00544-8919</td>\n",
       "    </tr>\n",
       "    <tr>\n",
       "      <th>1459</th>\n",
       "      <td>35963</td>\n",
       "      <td>3</td>\n",
       "      <td>8</td>\n",
       "      <td>3</td>\n",
       "      <td>24436</td>\n",
       "      <td>143027</td>\n",
       "      <td>166 Terry Grove\\nSouth Michaelhaven, PR 18054</td>\n",
       "    </tr>\n",
       "    <tr>\n",
       "      <th>1661</th>\n",
       "      <td>48736</td>\n",
       "      <td>6</td>\n",
       "      <td>6</td>\n",
       "      <td>2</td>\n",
       "      <td>19682</td>\n",
       "      <td>151527</td>\n",
       "      <td>3426 Vicki Track\\nLake Rebeccashire, TN 53858</td>\n",
       "    </tr>\n",
       "    <tr>\n",
       "      <th>1799</th>\n",
       "      <td>60168</td>\n",
       "      <td>5</td>\n",
       "      <td>4</td>\n",
       "      <td>4</td>\n",
       "      <td>16811</td>\n",
       "      <td>88592</td>\n",
       "      <td>97009 Annette Vista\\nMichaelside, AZ 39867</td>\n",
       "    </tr>\n",
       "    <tr>\n",
       "      <th>3212</th>\n",
       "      <td>47321</td>\n",
       "      <td>4</td>\n",
       "      <td>7</td>\n",
       "      <td>3</td>\n",
       "      <td>15777</td>\n",
       "      <td>15939</td>\n",
       "      <td>91410 Megan Camp Suite 360\\nLaurafort, OH 15735</td>\n",
       "    </tr>\n",
       "  </tbody>\n",
       "</table>\n",
       "</div>"
      ],
      "text/plain": [
       "      Area Income  Area House Age  Area Number of Rooms  \\\n",
       "1271        37971               4                     6   \n",
       "1459        35963               3                     8   \n",
       "1661        48736               6                     6   \n",
       "1799        60168               5                     4   \n",
       "3212        47321               4                     7   \n",
       "\n",
       "      Area Number of Bedrooms  Area Population   Price  \\\n",
       "1271                        3            33268   31141   \n",
       "1459                        3            24436  143027   \n",
       "1661                        2            19682  151527   \n",
       "1799                        4            16811   88592   \n",
       "3212                        3            15777   15939   \n",
       "\n",
       "                                                Address  \n",
       "1271  98398 Terrance Pines\\nSouth Joshua, MT 00544-8919  \n",
       "1459      166 Terry Grove\\nSouth Michaelhaven, PR 18054  \n",
       "1661      3426 Vicki Track\\nLake Rebeccashire, TN 53858  \n",
       "1799         97009 Annette Vista\\nMichaelside, AZ 39867  \n",
       "3212    91410 Megan Camp Suite 360\\nLaurafort, OH 15735  "
      ]
     },
     "execution_count": 13,
     "metadata": {},
     "output_type": "execute_result"
    }
   ],
   "source": [
    "data[data.Price < min_thresold]"
   ]
  },
  {
   "cell_type": "code",
   "execution_count": 14,
   "metadata": {},
   "outputs": [
    {
     "data": {
      "text/html": [
       "<div>\n",
       "<style scoped>\n",
       "    .dataframe tbody tr th:only-of-type {\n",
       "        vertical-align: middle;\n",
       "    }\n",
       "\n",
       "    .dataframe tbody tr th {\n",
       "        vertical-align: top;\n",
       "    }\n",
       "\n",
       "    .dataframe thead th {\n",
       "        text-align: right;\n",
       "    }\n",
       "</style>\n",
       "<table border=\"1\" class=\"dataframe\">\n",
       "  <thead>\n",
       "    <tr style=\"text-align: right;\">\n",
       "      <th></th>\n",
       "      <th>Area Income</th>\n",
       "      <th>Area House Age</th>\n",
       "      <th>Area Number of Rooms</th>\n",
       "      <th>Area Number of Bedrooms</th>\n",
       "      <th>Area Population</th>\n",
       "      <th>Price</th>\n",
       "      <th>Address</th>\n",
       "    </tr>\n",
       "  </thead>\n",
       "  <tbody>\n",
       "    <tr>\n",
       "      <th>465</th>\n",
       "      <td>90592</td>\n",
       "      <td>8</td>\n",
       "      <td>10</td>\n",
       "      <td>5</td>\n",
       "      <td>37224</td>\n",
       "      <td>2469066</td>\n",
       "      <td>USNS Vargas\\nFPO AE 56319-6904</td>\n",
       "    </tr>\n",
       "    <tr>\n",
       "      <th>693</th>\n",
       "      <td>107702</td>\n",
       "      <td>7</td>\n",
       "      <td>9</td>\n",
       "      <td>3</td>\n",
       "      <td>37619</td>\n",
       "      <td>2332111</td>\n",
       "      <td>41017 Eric Village\\nJonathanport, CO 37205</td>\n",
       "    </tr>\n",
       "    <tr>\n",
       "      <th>924</th>\n",
       "      <td>83814</td>\n",
       "      <td>9</td>\n",
       "      <td>7</td>\n",
       "      <td>3</td>\n",
       "      <td>51538</td>\n",
       "      <td>2330290</td>\n",
       "      <td>125 Gillespie Plain\\nWhitefurt, MO 18599</td>\n",
       "    </tr>\n",
       "    <tr>\n",
       "      <th>1248</th>\n",
       "      <td>94734</td>\n",
       "      <td>8</td>\n",
       "      <td>7</td>\n",
       "      <td>5</td>\n",
       "      <td>46315</td>\n",
       "      <td>2318286</td>\n",
       "      <td>4393 James Springs Apt. 818\\nMargaretview, ND ...</td>\n",
       "    </tr>\n",
       "    <tr>\n",
       "      <th>2719</th>\n",
       "      <td>101600</td>\n",
       "      <td>8</td>\n",
       "      <td>7</td>\n",
       "      <td>6</td>\n",
       "      <td>37524</td>\n",
       "      <td>2370231</td>\n",
       "      <td>52280 Steven Street\\nRobertchester, IA 40405-0504</td>\n",
       "    </tr>\n",
       "  </tbody>\n",
       "</table>\n",
       "</div>"
      ],
      "text/plain": [
       "      Area Income  Area House Age  Area Number of Rooms  \\\n",
       "465         90592               8                    10   \n",
       "693        107702               7                     9   \n",
       "924         83814               9                     7   \n",
       "1248        94734               8                     7   \n",
       "2719       101600               8                     7   \n",
       "\n",
       "      Area Number of Bedrooms  Area Population    Price  \\\n",
       "465                         5            37224  2469066   \n",
       "693                         3            37619  2332111   \n",
       "924                         3            51538  2330290   \n",
       "1248                        5            46315  2318286   \n",
       "2719                        6            37524  2370231   \n",
       "\n",
       "                                                Address  \n",
       "465                      USNS Vargas\\nFPO AE 56319-6904  \n",
       "693          41017 Eric Village\\nJonathanport, CO 37205  \n",
       "924            125 Gillespie Plain\\nWhitefurt, MO 18599  \n",
       "1248  4393 James Springs Apt. 818\\nMargaretview, ND ...  \n",
       "2719  52280 Steven Street\\nRobertchester, IA 40405-0504  "
      ]
     },
     "execution_count": 14,
     "metadata": {},
     "output_type": "execute_result"
    }
   ],
   "source": [
    "data[data.Price > max_thresold]"
   ]
  },
  {
   "cell_type": "markdown",
   "metadata": {},
   "source": [
    "xóa outlines"
   ]
  },
  {
   "cell_type": "code",
   "execution_count": 15,
   "metadata": {},
   "outputs": [
    {
     "data": {
      "text/plain": [
       "(4990, 7)"
      ]
     },
     "execution_count": 15,
     "metadata": {},
     "output_type": "execute_result"
    }
   ],
   "source": [
    "data_clean = data[(data.Price < max_thresold) & (data.Price > min_thresold)]\n",
    "data_clean.shape"
   ]
  },
  {
   "cell_type": "code",
   "execution_count": 16,
   "metadata": {},
   "outputs": [
    {
     "data": {
      "text/html": [
       "<div>\n",
       "<style scoped>\n",
       "    .dataframe tbody tr th:only-of-type {\n",
       "        vertical-align: middle;\n",
       "    }\n",
       "\n",
       "    .dataframe tbody tr th {\n",
       "        vertical-align: top;\n",
       "    }\n",
       "\n",
       "    .dataframe thead th {\n",
       "        text-align: right;\n",
       "    }\n",
       "</style>\n",
       "<table border=\"1\" class=\"dataframe\">\n",
       "  <thead>\n",
       "    <tr style=\"text-align: right;\">\n",
       "      <th></th>\n",
       "      <th>Area Income</th>\n",
       "      <th>Area House Age</th>\n",
       "      <th>Area Number of Rooms</th>\n",
       "      <th>Area Number of Bedrooms</th>\n",
       "      <th>Area Population</th>\n",
       "      <th>Price</th>\n",
       "    </tr>\n",
       "  </thead>\n",
       "  <tbody>\n",
       "    <tr>\n",
       "      <th>count</th>\n",
       "      <td>4990.000</td>\n",
       "      <td>4990.000</td>\n",
       "      <td>4990.000</td>\n",
       "      <td>4990.000</td>\n",
       "      <td>4990.000</td>\n",
       "      <td>4990.000</td>\n",
       "    </tr>\n",
       "    <tr>\n",
       "      <th>mean</th>\n",
       "      <td>68578.541</td>\n",
       "      <td>5.974</td>\n",
       "      <td>6.988</td>\n",
       "      <td>3.753</td>\n",
       "      <td>36171.817</td>\n",
       "      <td>1232086.790</td>\n",
       "    </tr>\n",
       "    <tr>\n",
       "      <th>std</th>\n",
       "      <td>10603.284</td>\n",
       "      <td>1.035</td>\n",
       "      <td>1.043</td>\n",
       "      <td>1.233</td>\n",
       "      <td>9919.921</td>\n",
       "      <td>349764.874</td>\n",
       "    </tr>\n",
       "    <tr>\n",
       "      <th>min</th>\n",
       "      <td>17797.000</td>\n",
       "      <td>3.000</td>\n",
       "      <td>3.000</td>\n",
       "      <td>2.000</td>\n",
       "      <td>173.000</td>\n",
       "      <td>152072.000</td>\n",
       "    </tr>\n",
       "    <tr>\n",
       "      <th>25%</th>\n",
       "      <td>61483.750</td>\n",
       "      <td>5.000</td>\n",
       "      <td>6.000</td>\n",
       "      <td>3.000</td>\n",
       "      <td>29409.000</td>\n",
       "      <td>998356.250</td>\n",
       "    </tr>\n",
       "    <tr>\n",
       "      <th>50%</th>\n",
       "      <td>68804.500</td>\n",
       "      <td>6.000</td>\n",
       "      <td>7.000</td>\n",
       "      <td>4.000</td>\n",
       "      <td>36199.000</td>\n",
       "      <td>1232669.000</td>\n",
       "    </tr>\n",
       "    <tr>\n",
       "      <th>75%</th>\n",
       "      <td>75773.250</td>\n",
       "      <td>7.000</td>\n",
       "      <td>8.000</td>\n",
       "      <td>4.000</td>\n",
       "      <td>42869.000</td>\n",
       "      <td>1470262.250</td>\n",
       "    </tr>\n",
       "    <tr>\n",
       "      <th>max</th>\n",
       "      <td>104703.000</td>\n",
       "      <td>10.000</td>\n",
       "      <td>11.000</td>\n",
       "      <td>7.000</td>\n",
       "      <td>69622.000</td>\n",
       "      <td>2298379.000</td>\n",
       "    </tr>\n",
       "  </tbody>\n",
       "</table>\n",
       "</div>"
      ],
      "text/plain": [
       "       Area Income  Area House Age  Area Number of Rooms  \\\n",
       "count     4990.000        4990.000              4990.000   \n",
       "mean     68578.541           5.974                 6.988   \n",
       "std      10603.284           1.035                 1.043   \n",
       "min      17797.000           3.000                 3.000   \n",
       "25%      61483.750           5.000                 6.000   \n",
       "50%      68804.500           6.000                 7.000   \n",
       "75%      75773.250           7.000                 8.000   \n",
       "max     104703.000          10.000                11.000   \n",
       "\n",
       "       Area Number of Bedrooms  Area Population       Price  \n",
       "count                 4990.000         4990.000    4990.000  \n",
       "mean                     3.753        36171.817 1232086.790  \n",
       "std                      1.233         9919.921  349764.874  \n",
       "min                      2.000          173.000  152072.000  \n",
       "25%                      3.000        29409.000  998356.250  \n",
       "50%                      4.000        36199.000 1232669.000  \n",
       "75%                      4.000        42869.000 1470262.250  \n",
       "max                      7.000        69622.000 2298379.000  "
      ]
     },
     "execution_count": 16,
     "metadata": {},
     "output_type": "execute_result"
    }
   ],
   "source": [
    "data_clean.describe()"
   ]
  },
  {
   "cell_type": "markdown",
   "metadata": {},
   "source": [
    "*Chuẩn hóa dữ liệu*"
   ]
  },
  {
   "cell_type": "markdown",
   "metadata": {},
   "source": [
    "- Đánh giá từng thuộc tính độc lập"
   ]
  },
  {
   "cell_type": "code",
   "execution_count": 66,
   "metadata": {},
   "outputs": [
    {
     "name": "stdout",
     "output_type": "stream",
     "text": [
      "\n",
      "Có 4990 bản ghi và 7 thuộc tính/cột\n",
      "\n",
      "Có 7 thuộc tính numeric: \n",
      "\n",
      "1. Area Income\n",
      "\n",
      "2. Area House Age\n",
      "\n",
      "3. Area Number of Rooms\n",
      "\n",
      "4. Area Number of Bedrooms\n",
      "\n",
      "5. Area Population\n",
      "\n",
      "6. Price\n",
      "\n",
      "7. Address\n",
      "\n",
      "\n",
      "Có 0 thuộc tính categorical:\n",
      "\n"
     ]
    }
   ],
   "source": [
    "def summarize_dataframe(clean_data):\n",
    "\n",
    "    # In ra số lượng bản ghi và cột\n",
    "    print(f\"\\nCó {len(data_clean)} bản ghi và {len(data_clean.columns)} thuộc tính/cột\")\n",
    "\n",
    "    # Xác định các thuộc tính số học\n",
    "    numeric_features = data_clean.select_dtypes(include=[np.number]).columns.tolist()\n",
    "\n",
    "    # Xác định các thuộc tính phân loại\n",
    "    categorical_features = data_clean.select_dtypes(exclude=[np.number]).columns.tolist()\n",
    "\n",
    "    # In ra số lượng thuộc tính số học và từng thuộc tính\n",
    "    print(f\"\\nCó {len(numeric_features)} thuộc tính numeric: \\n\")\n",
    "    for i, feature in enumerate(numeric_features, 1):\n",
    "        print(f\"{i}. {feature}\\n\")\n",
    "\n",
    "        # In ra số lượng thuộc tính phân loại và từng thuộc tính\n",
    "    print(f\"\\nCó {len(categorical_features)} thuộc tính categorical:\\n\")\n",
    "    for i, feature in enumerate(categorical_features, 1):\n",
    "            print(f\"{i}. {feature} \\n\")\n",
    "            \n",
    "summarize_dataframe(data_clean)"
   ]
  },
  {
   "cell_type": "markdown",
   "metadata": {},
   "source": [
    "-Thực hiện phương pháp chuẩn hóa dữ liệu bằng phương pháp min-max scaling"
   ]
  },
  {
   "cell_type": "code",
   "execution_count": 120,
   "metadata": {},
   "outputs": [],
   "source": [
    "from sklearn.preprocessing import MinMaxScaler\n",
    "\n",
    "# Tạo một đối tượng MinMaxScaler\n",
    "scaler = MinMaxScaler()\n",
    "\n",
    "# Chọn các cột cần chuẩn hóa\n",
    "columns_to_scale = ['Area Income', 'Area House Age', 'Area Number of Rooms', 'Area Number of Bedrooms', 'Area Population', 'Price']\n",
    "\n",
    "# Chuẩn hóa Min-Max\n",
    "data_clean[columns_to_scale] = scaler.fit_transform(data_clean[columns_to_scale])\n"
   ]
  },
  {
   "cell_type": "markdown",
   "metadata": {},
   "source": [
    "- Xuất dữ liệu bằng file xlsx với 500 dòng dữ liệu đầu tiên"
   ]
  },
  {
   "cell_type": "code",
   "execution_count": 123,
   "metadata": {},
   "outputs": [],
   "source": [
    "data_clean.to_excel('D:\\\\ML\\\\bt-hoc-kgs\\\\USA_Housing_da_xu_ly.xlsx', index=True)"
   ]
  }
 ],
 "metadata": {
  "kernelspec": {
   "display_name": "Python 3",
   "language": "python",
   "name": "python3"
  },
  "language_info": {
   "codemirror_mode": {
    "name": "ipython",
    "version": 3
   },
   "file_extension": ".py",
   "mimetype": "text/x-python",
   "name": "python",
   "nbconvert_exporter": "python",
   "pygments_lexer": "ipython3",
   "version": "3.12.1"
  }
 },
 "nbformat": 4,
 "nbformat_minor": 2
}
